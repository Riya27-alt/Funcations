{
  "nbformat": 4,
  "nbformat_minor": 0,
  "metadata": {
    "colab": {
      "provenance": []
    },
    "kernelspec": {
      "name": "python3",
      "display_name": "Python 3"
    },
    "language_info": {
      "name": "python"
    }
  },
  "cells": [
    {
      "cell_type": "markdown",
      "source": [],
      "metadata": {
        "id": "EEUvzwYPeL2a"
      }
    },
    {
      "cell_type": "code",
      "execution_count": null,
      "metadata": {
        "id": "cHmokLzdd2Ew"
      },
      "outputs": [],
      "source": []
    },
    {
      "cell_type": "markdown",
      "source": [
        "Functions\n",
        "**1. Difference between a function and a method in Python:**\n",
        "- A function is a block of reusable code that is defined using the `def` keyword and can be called independently.\n",
        "- A method is a function that is associated with an object and is called on that object.\n",
        "\n",
        "**Example:**\n",
        "```python\n",
        "# Function\n",
        "def greet(name):\n",
        "    return f\"Hello, {name}!\"\n",
        "print(greet(\"Alice\"))  # Calling the function\n",
        "\n",
        "# Method\n",
        "class Person:\n",
        "    def __init__(self, name):\n",
        "        self.name = name\n",
        "    \n",
        "    def greet(self):\n",
        "        return f\"Hello, {self.name}!\"\n",
        "\n",
        "p = Person(\"Alice\")\n",
        "print(p.greet())  # Calling the method\n",
        "```\n",
        "\n",
        "**2. Function Arguments and Parameters in Python:**\n",
        "- Parameters are variables listed in a function definition.\n",
        "- Arguments are values passed to a function when calling it.\n",
        "\n",
        "**Example:**\n",
        "```python\n",
        "def add(a, b):  # 'a' and 'b' are parameters\n",
        "    return a + b\n",
        "\n",
        "print(add(3, 5))  # '3' and '5' are arguments\n",
        "```\n",
        "\n",
        "**3. Different Ways to Define and Call a Function in Python:**\n",
        "- Using the `def` keyword\n",
        "- Using `lambda` (anonymous function)\n",
        "\n",
        "**Example:**\n",
        "```python\n",
        "def square(x):\n",
        "    return x * x\n",
        "print(square(4))\n",
        "\n",
        "# Lambda function\n",
        "square_lambda = lambda x: x * x\n",
        "print(square_lambda(4))\n",
        "```\n",
        "\n",
        "**4. Purpose of `return` Statement in a Python Function:**\n",
        "- The `return` statement exits a function and sends a result back to the caller.\n",
        "\n",
        "**Example:**\n",
        "```python\n",
        "def multiply(a, b):\n",
        "    return a * b\n",
        "print(multiply(4, 5))  # Output: 20\n",
        "```\n",
        "\n",
        "**5. Iterators vs. Iterables:**\n",
        "- An iterable is an object that can return an iterator (e.g., lists, tuples).\n",
        "- An iterator is an object that implements the `__iter__()` and `__next__()` methods.\n",
        "\n",
        "**Example:**\n",
        "```python\n",
        "lst = [1, 2, 3]\n",
        "iterator = iter(lst)\n",
        "print(next(iterator))  # Output: 1\n",
        "```\n",
        "\n",
        "**6. Generators in Python:**\n",
        "- Generators use the `yield` keyword to return values lazily.\n",
        "\n",
        "**Example:**\n",
        "```python\n",
        "def count_up_to(n):\n",
        "    i = 1\n",
        "    while i <= n:\n",
        "        yield i\n",
        "        i += 1\n",
        "\n",
        "counter = count_up_to(3)\n",
        "print(next(counter))  # Output: 1\n",
        "```\n",
        "\n",
        "**7. Advantages of Generators Over Regular Functions:**\n",
        "- Memory-efficient\n",
        "- Lazy evaluation (values produced one at a time)\n",
        "- Simplifies complex iterators\n",
        "\n",
        "**8. Lambda Functions:**\n",
        "- Anonymous functions defined using the `lambda` keyword.\n",
        "\n",
        "**Example:**\n",
        "```python\n",
        "add = lambda x, y: x + y\n",
        "print(add(2, 3))  # Output: 5\n",
        "```\n",
        "\n",
        "**9. Purpose and Usage of `map()` Function:**\n",
        "- `map()` applies a function to each element in an iterable.\n",
        "\n",
        "**Example:**\n",
        "```python\n",
        "def square(x):\n",
        "    return x * x\n",
        "\n",
        "nums = [1, 2, 3, 4]\n",
        "print(list(map(square, nums)))  # Output: [1, 4, 9, 16]\n",
        "```\n",
        "\n",
        "**10. Difference Between `map()`, `reduce()`, and `filter()`:**\n",
        "- `map()`: Applies a function to all elements.\n",
        "- `filter()`: Filters elements based on a condition.\n",
        "- `reduce()`: Performs cumulative operations.\n",
        "\n",
        "**Example:**\n",
        "```python\n",
        "from functools import reduce\n",
        "nums = [1, 2, 3, 4]\n",
        "print(list(filter(lambda x: x % 2 == 0, nums)))  # Output: [2, 4]\n",
        "print(reduce(lambda x, y: x + y, nums))  # Output: 10\n",
        "```\n",
        "\n",
        "**11. Sum Operation Using `reduce()` on `[47,11,42,13]`:**\n",
        "```\n",
        "Step 1: (47 + 11) = 58\n",
        "Step 2: (58 + 42) = 100\n",
        "Step 3: (100 + 13) = 113\n",
        "Final Output: 113\n",
        "```\n",
        "\n",
        "\n"
      ],
      "metadata": {
        "id": "1hVMqC-Sd6Fk"
      }
    },
    {
      "cell_type": "code",
      "source": [
        "#practical\n",
        "# 1. Function to sum even numbers in a list\n",
        "def sum_even_numbers(lst):\n",
        "    return sum(num for num in lst if num % 2 == 0)\n",
        ""
      ],
      "metadata": {
        "id": "_jme_deHefua"
      },
      "execution_count": 1,
      "outputs": []
    },
    {
      "cell_type": "code",
      "source": [
        "# 2. Function to reverse a string\n",
        "def reverse_string(s):\n",
        "    return s[::-1]"
      ],
      "metadata": {
        "id": "_W3MYJ87fucQ"
      },
      "execution_count": 2,
      "outputs": []
    },
    {
      "cell_type": "code",
      "source": [
        "# 3. Function to return squares of a list\n",
        "def square_list(lst):\n",
        "    return [num ** 2 for num in lst]\n"
      ],
      "metadata": {
        "id": "wZMH1DEYfua3"
      },
      "execution_count": 3,
      "outputs": []
    },
    {
      "cell_type": "code",
      "source": [
        "\n",
        "# 4. Function to check if a number is prime (1 to 200)\n",
        "def is_prime(n):\n",
        "    if n < 2:\n",
        "        return False\n",
        "    for i in range(2, int(n**0.5) + 1):\n",
        "        if n % i == 0:\n",
        "            return False\n",
        "    return True"
      ],
      "metadata": {
        "id": "EQFQ92RLfuWQ"
      },
      "execution_count": 4,
      "outputs": []
    },
    {
      "cell_type": "code",
      "source": [
        "# 5. Fibonacci iterator class\n",
        "class Fibonacci:\n",
        "    def __init__(self, terms):\n",
        "        self.terms = terms\n",
        "        self.a, self.b = 0, 1\n",
        "        self.count = 0\n",
        "\n",
        "    def __iter__(self):\n",
        "        return self\n",
        "\n",
        "    def __next__(self):\n",
        "        if self.count >= self.terms:\n",
        "            raise StopIteration\n",
        "        self.a, self.b = self.b, self.a + self.b\n",
        "        self.count += 1\n",
        "        return self.a\n"
      ],
      "metadata": {
        "id": "eH-vqJg5fuU2"
      },
      "execution_count": 6,
      "outputs": []
    },
    {
      "cell_type": "code",
      "source": [
        "# 6. Generator for powers of 2\n",
        "def powers_of_2(exponent):\n",
        "    for i in range(exponent + 1):\n",
        "        yield 2 ** i\n"
      ],
      "metadata": {
        "id": "jV2wpc8kfuP5"
      },
      "execution_count": 7,
      "outputs": []
    },
    {
      "cell_type": "code",
      "source": [
        "# 7. Generator to read a file line by line\n",
        "def read_file_lines(filename):\n",
        "    with open(filename, 'r') as file:\n",
        "        for line in file:\n",
        "            yield line.strip()\n"
      ],
      "metadata": {
        "id": "UOC6p3RIfuOj"
      },
      "execution_count": 8,
      "outputs": []
    },
    {
      "cell_type": "code",
      "source": [
        "# 8. Sorting tuples using lambda\n",
        "tuples = [(1, 3), (4, 1), (2, 2)]\n",
        "tuples.sort(key=lambda x: x[1])"
      ],
      "metadata": {
        "id": "JdiaHaG1fuJf"
      },
      "execution_count": 9,
      "outputs": []
    },
    {
      "cell_type": "code",
      "source": [
        "# 9. Using map() to convert Celsius to Fahrenheit\n",
        "def celsius_to_fahrenheit(celsius):\n",
        "    return list(map(lambda c: (c * 9/5) + 32, celsius))\n"
      ],
      "metadata": {
        "id": "HPG_rYs2fuIN"
      },
      "execution_count": 10,
      "outputs": []
    },
    {
      "cell_type": "code",
      "source": [
        "# 10. Using filter() to remove vowels from a string\n",
        "def remove_vowels(s):\n",
        "    return ''.join(filter(lambda x: x.lower() not in 'aeiou', s))\n"
      ],
      "metadata": {
        "id": "Y2u7Fi7Xft9P"
      },
      "execution_count": 11,
      "outputs": []
    },
    {
      "cell_type": "code",
      "source": [
        "# 11. Accounting routine with lambda and map\n",
        "orders = [[34587, 4, 40.95], [98762, 5, 56.80], [77226, 3, 32.90], [88112, 3, 24.99]]\n",
        "order_totals = list(map(lambda order: (order[0], order[1] * order[2] + (10 if order[1] * order[2] < 100 else 0)), orders))\n"
      ],
      "metadata": {
        "id": "p6MvTujXft0j"
      },
      "execution_count": 12,
      "outputs": []
    }
  ]
}